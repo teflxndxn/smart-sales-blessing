{
 "cells": [
  {
   "cell_type": "code",
   "execution_count": 5,
   "id": "e9f7e525-c609-4957-b11d-21aa3840df09",
   "metadata": {},
   "outputs": [
    {
     "name": "stdout",
     "output_type": "stream",
     "text": [
      "+-------+-----------+----------+-----------+---------+--------+-----------+--------------------+--------------+\n",
      "|sale_id|customer_id|product_id|sale_amount|sale_date|store_id|campaign_id|    discount_percent|         state|\n",
      "+-------+-----------+----------+-----------+---------+--------+-----------+--------------------+--------------+\n",
      "|    550|       1008|       102|       39.1| 1/6/2024|     404|          0|2.430000000000000000|         Texas|\n",
      "|    551|       1009|       105|      19.78| 1/6/2024|     403|          0|2.750000000000000000|       Florida|\n",
      "|    552|       1004|       107|      335.1|1/16/2024|     404|          0|0.850000000000000000|    California|\n",
      "|    553|       1006|       102|      195.5|1/16/2024|     406|          0|1.710000000000000000|      New York|\n",
      "|    554|       1005|       102|      117.3|1/25/2024|     405|          0|1.850000000000000000|      Illinois|\n",
      "|    555|       1001|       101|    2379.36|1/25/2024|     401|          0|0.610000000000000000|  Pennsylvania|\n",
      "|    556|       1009|       104|      172.4|1/29/2024|     403|          0|1.790000000000000000|          Ohio|\n",
      "|    557|       1010|       101|    3172.48|1/29/2024|     402|          0|0.250000000000000000|       Georgia|\n",
      "|    558|       1002|       102|      312.8| 2/6/2024|     402|          0|2.710000000000000000|North Carolina|\n",
      "|    559|       1001|       106|     622.86| 2/6/2024|     401|          0|1.810000000000000000|      Michigan|\n",
      "|    560|       1010|       101|    6344.96| 2/6/2024|     402|          0|0.330000000000000000|    New Jersey|\n",
      "|    561|       1005|       107|     469.14| 2/6/2024|     405|          0|0.770000000000000000|      Virginia|\n",
      "|    562|       1003|       108|      12.56| 2/8/2024|     403|          0|1.410000000000000000|    Washington|\n",
      "|    563|       1006|       107|      67.02| 2/8/2024|     406|          0|0.270000000000000000|       Arizona|\n",
      "|    564|       1009|       107|     469.14| 2/9/2024|     403|          0|0.140000000000000000| Massachusetts|\n",
      "|    565|       1002|       105|     138.46| 2/9/2024|     402|          0|1.960000000000000000|     Tennessee|\n",
      "|    566|       1007|       103|     204.84|2/24/2024|     405|          0|0.980000000000000000|       Indiana|\n",
      "|    567|       1007|       106|      444.9|2/24/2024|     405|          0|1.590000000000000000|      Missouri|\n",
      "|    568|       1011|       107|     603.18|2/24/2024|     401|          0|1.960000000000000000|      Maryland|\n",
      "|    569|       1010|       101|     3965.6|2/24/2024|     402|          0|0.310000000000000000|     Wisconsin|\n",
      "+-------+-----------+----------+-----------+---------+--------+-----------+--------------------+--------------+\n",
      "only showing top 20 rows\n",
      "\n"
     ]
    }
   ],
   "source": [
    "import findspark\n",
    "findspark.init()\n",
    "\n",
    "from pyspark.sql import SparkSession\n",
    "\n",
    "# Start a Spark session with the SQLite JDBC driver\n",
    "spark = SparkSession.builder \\\n",
    "    .appName(\"SmartSales\") \\\n",
    "    .config(\"spark.jars\", \"/Users/stephneyaganaga/Desktop/school-assessment/smart-sales-blessing/lib/sqlite-jdbc-3.49.1.0.jar\") \\\n",
    "    .getOrCreate()\n",
    "\n",
    "# Load data from SQLite\n",
    "df_sales = spark.read.format(\"jdbc\") \\\n",
    "    .option(\"url\", \"jdbc:sqlite:/Users/stephneyaganaga/Desktop/school-assessment/smart-sales-blessing/data/dw/smart_sales.db\") \\\n",
    "    .option(\"dbtable\", \"sale\") \\\n",
    "    .option(\"driver\", \"org.sqlite.JDBC\") \\\n",
    "    .load()\n",
    "\n",
    "df_sales.show()\n",
    "# Change \"sales\" to \"product\" or \"customer\" to load other tables.\n"
   ]
  },
  {
   "cell_type": "code",
   "execution_count": null,
   "id": "db14cacc-088f-49d1-8a29-b8336b817b9f",
   "metadata": {},
   "outputs": [],
   "source": []
  },
  {
   "cell_type": "code",
   "execution_count": null,
   "id": "96ef7f22-c105-41fd-acab-a27fe8b417f9",
   "metadata": {},
   "outputs": [],
   "source": []
  }
 ],
 "metadata": {
  "kernelspec": {
   "display_name": "Python 3 (ipykernel)",
   "language": "python",
   "name": "python3"
  },
  "language_info": {
   "codemirror_mode": {
    "name": "ipython",
    "version": 3
   },
   "file_extension": ".py",
   "mimetype": "text/x-python",
   "name": "python",
   "nbconvert_exporter": "python",
   "pygments_lexer": "ipython3",
   "version": "3.12.7"
  }
 },
 "nbformat": 4,
 "nbformat_minor": 5
}
